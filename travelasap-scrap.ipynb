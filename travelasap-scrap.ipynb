{
 "cells": [
  {
   "cell_type": "code",
   "execution_count": 22,
   "metadata": {
    "tags": []
   },
   "outputs": [],
   "source": [
    "\n",
    "import os\n",
    "import test\n",
    "import requests\n",
    "from bs4 import BeautifulSoup as BS\n",
    "import collections as clc\n",
    "\n"
   ]
  },
  {
   "cell_type": "code",
   "execution_count": 23,
   "metadata": {},
   "outputs": [],
   "source": [
    "trip_no = 212924214\n",
    "Trip_parameters = clc.namedtuple(\"Trip_parameters\",\"page_url,title,hotel,hotel2,board,price,price2,duration,date_whole,date_from,date_to,discount,pictures\")\n",
    "trip_params = Trip_parameters\n",
    "ta_url = \"https://www.travelasap.cz/d/\"\n",
    "ta_detail_url = os.path.join(ta_url,str(trip_no))\n",
    "status=0\n",
    "while status!=200:\n",
    "    page = requests.get(ta_detail_url)\n",
    "    status = page.status_code\n",
    "soup = BS(page.content, 'html.parser')"
   ]
  },
  {
   "cell_type": "code",
   "execution_count": 24,
   "metadata": {},
   "outputs": [
    {
     "data": {
      "text/plain": [
       "type"
      ]
     },
     "execution_count": 24,
     "metadata": {},
     "output_type": "execute_result"
    }
   ],
   "source": [
    "type(Trip_params)"
   ]
  },
  {
   "cell_type": "code",
   "execution_count": 25,
   "metadata": {
    "tags": []
   },
   "outputs": [
    {
     "name": "stdout",
     "output_type": "stream",
     "text": [
      "https://www.travelasap.cz/d/\n",
      "https://www.travelasap.cz/d/212924214\n"
     ]
    }
   ],
   "source": [
    "print(ta_url)\n",
    "print(ta_detail_url)"
   ]
  },
  {
   "cell_type": "code",
   "execution_count": 42,
   "metadata": {},
   "outputs": [],
   "source": [
    "answers=[\n",
    "  {\"type\":\"price1\",\"msg\":\"Úžasná cena zájezdu do {hotel}.\\nUžijte si Vaší dovolenou na plné pecky a přitom za málo peněz.\\nCena {price2} od nás je stejná jako od pořádající cestovní kanceláře, nezaplatíte ani o korunu navíc.\"},\n",
    "  {\"type\":\"price2\",\"msg\":\"Cenový trhák!\\nNavštivte už od {date_from} oblíbený hotel {hotel} za neuvěřitelnu cenu {price}.\\nTo je příležitost!\"},\n",
    "  {\"type\":\"price3\",\"msg\":\"{title}\\nTak to je pecka!\\nNejlepší cena (jen {price2}), která se tu dnes objevila!\"},\n",
    "  {\"type\":\"price4\",\"msg\":\"Prasátko rozbíjet nemusíte!\\nNa tuhle dovolenou dosáhne každý! Krásný resort {hotel} se službami na úrovni\"},\n",
    "  {\"type\":\"price5\",\"msg\":\"Je skvělé, jak se v současné době pohybují ceny zájezdů!\\nVyužijte této skvělé příležitosti a navštivte {hotel}. Cena {price} je velmi příznivá za {duration}.\\n{title}\\nTak volejte 777283872.\\n{url}\",\"format\":\"hotel=hotel, price=price, duration=duration, title=title, url=page_url\"}\n",
    "]"
   ]
  },
  {
   "cell_type": "code",
   "execution_count": 27,
   "metadata": {},
   "outputs": [],
   "source": [
    "def get_params_from_ta(trip_no):\n",
    "  status=0\n",
    "  page_url = os.path.join(ta_url,str(trip_no))\n",
    "  print(page_url)\n",
    "  while status!=200:\n",
    "    page = requests.get(page_url)\n",
    "    status = page.status_code\n",
    "  soup = BS(page.content, 'html.parser')\n",
    "  title = soup.find(\"h1\").text.strip()\n",
    "  hotel = soup.find(\"div\", class_='hotel').text.strip()\n",
    "  hotel2 = title.split(\" za cenu \")[0].strip()\n",
    "  board = soup.find(\"div\", class_='board').text.strip()\n",
    "  price = soup.find(\"a\", class_=\"change-structured-content pric b-pric\").text.strip().replace(\" \",\"\")\n",
    "  price2 = title.split(\" \")[-5]\n",
    "  duration = soup.find(\"div\", class_='dur').text.strip()\n",
    "  date_whole = soup.find(\"div\", class_='date').text.strip()\n",
    "  #date_from = soup.find(\"div\", class_='date').text.strip()\n",
    "  #date_to = soup.find(\"div\", class_='date').text.strip()\n",
    "  date_from = title.split(\" \")[-1]\n",
    "  date_to = title.split(\" \")[-3]\n",
    "  discount = soup.find(\"div\", class_='dis').text.strip()\n",
    "  pictures = [\"https:\"+a['href'] for a in soup.find(\"div\", class_='pics-inner').find_all('a', href=True) if a.text]\n",
    "  #print(title,hotel,hotel2,board,price,price2,duration,date_whole,date_from,date_to,discount,pictures,sep=\"\\n\")\n",
    "  trip_params = Trip_parameters(page_url,title,hotel,hotel2,board,price,price2,duration,date_whole,date_from,date_to,discount,pictures)\n",
    "  return trip_params"
   ]
  },
  {
   "cell_type": "code",
   "execution_count": 62,
   "metadata": {
    "tags": []
   },
   "outputs": [
    {
     "name": "stdout",
     "output_type": "stream",
     "text": [
      "https://www.travelasap.cz/d/212924214\n"
     ]
    }
   ],
   "source": [
    "par = get_params_from_ta(trip_no)"
   ]
  },
  {
   "cell_type": "code",
   "execution_count": 65,
   "metadata": {
    "tags": []
   },
   "outputs": [
    {
     "name": "stdout",
     "output_type": "stream",
     "text": [
      "('page_url', 'title', 'hotel', 'hotel2', 'board', 'price', 'price2', 'duration', 'date_whole', 'date_from', 'date_to', 'discount', 'pictures')\n",
      "SplashWorld Venus Beach\n",
      "5 dní\n",
      "Trip_parameters(page_url='https://www.travelasap.cz/d/212924214', title='SplashWorld Venus Beach  za cenu 8690Kč od 09.09.20 do 13.09.20', hotel='SplashWorld Venus Beach', hotel2='SplashWorld Venus Beach', board='All inclusive', price='8\\xa0690\\xa0Kč', price2='8690Kč', duration='5 dní', date_whole='9.9. - 13.9.2020', date_from='13.09.20', date_to='09.09.20', discount='-45 %', pictures=['https://i.ccdn.cz/acm/12/405878/l0.jpg', 'https://i.ccdn.cz/acm/12/405878/l1.jpg', 'https://i.ccdn.cz/acm/12/405878/l2.jpg', 'https://i.ccdn.cz/acm/12/405878/l3.jpg', 'https://i.ccdn.cz/acm/12/405878/l4.jpg', 'https://i.ccdn.cz/acm/12/405878/l5.jpg', 'https://i.ccdn.cz/acm/12/405878/l6.jpg', 'https://i.ccdn.cz/acm/12/405878/l7.jpg', 'https://i.ccdn.cz/acm/12/405878/l8.jpg', 'https://i.ccdn.cz/acm/12/405878/l9.jpg', 'https://i.ccdn.cz/acm/12/405878/l10.jpg', 'https://i.ccdn.cz/acm/12/405878/l11.jpg', 'https://i.ccdn.cz/acm/12/405878/l12.jpg', 'https://i.ccdn.cz/acm/12/405878/l13.jpg', 'https://i.ccdn.cz/acm/12/405878/l14.jpg', 'https://i.ccdn.cz/acm/12/405878/l15.jpg', 'https://i.ccdn.cz/acm/12/405878/l16.jpg', 'https://i.ccdn.cz/acm/12/405878/l17.jpg', 'https://i.ccdn.cz/acm/12/405878/l18.jpg', 'https://i.ccdn.cz/acm/12/405878/l19.jpg'])\n",
      "<class '__main__.Trip_parameters'>\n"
     ]
    }
   ],
   "source": [
    "print(par._fields)\n",
    "print(par.hotel)\n",
    "print(par.duration)\n",
    "print(par)\n",
    "print(type(par))"
   ]
  },
  {
   "cell_type": "code",
   "execution_count": 70,
   "metadata": {
    "tags": []
   },
   "outputs": [
    {
     "ename": "TypeError",
     "evalue": "format() argument after ** must be a mapping, not Trip_parameters",
     "output_type": "error",
     "traceback": [
      "\u001b[1;31m---------------------------------------------------------------------------\u001b[0m",
      "\u001b[1;31mTypeError\u001b[0m                                 Traceback (most recent call last)",
      "\u001b[1;32m<ipython-input-70-50b158019799>\u001b[0m in \u001b[0;36m<module>\u001b[1;34m\u001b[0m\n\u001b[1;32m----> 1\u001b[1;33m \u001b[0mprint\u001b[0m\u001b[1;33m(\u001b[0m\u001b[1;34m\"Cenový trhák!\\nNavštivte už od {date_from} oblíbený hotel {hotel} za neuvěřitelnu cenu {price}.\\nTo je příležitost!\"\u001b[0m\u001b[1;33m.\u001b[0m\u001b[0mformat\u001b[0m\u001b[1;33m(\u001b[0m\u001b[0mpar\u001b[0m\u001b[1;33m,\u001b[0m\u001b[1;33m**\u001b[0m\u001b[0mpar\u001b[0m\u001b[1;33m)\u001b[0m\u001b[1;33m)\u001b[0m\u001b[1;33m\u001b[0m\u001b[1;33m\u001b[0m\u001b[0m\n\u001b[0m",
      "\u001b[1;31mTypeError\u001b[0m: format() argument after ** must be a mapping, not Trip_parameters"
     ]
    }
   ],
   "source": [
    "print(\"Cenový trhák!\\nNavštivte už od {date_from} oblíbený hotel {hotel} za neuvěřitelnu cenu {price}.\\nTo je příležitost!\".format(par,**par))"
   ]
  },
  {
   "cell_type": "code",
   "execution_count": null,
   "metadata": {},
   "outputs": [],
   "source": []
  }
 ],
 "metadata": {
  "kernelspec": {
   "display_name": ".venv-facebook",
   "language": "python",
   "name": ".venv-facebook"
  },
  "language_info": {
   "codemirror_mode": {
    "name": "ipython",
    "version": 3
   },
   "file_extension": ".py",
   "mimetype": "text/x-python",
   "name": "python",
   "nbconvert_exporter": "python",
   "pygments_lexer": "ipython3",
   "version": "3.8.5"
  }
 },
 "nbformat": 4,
 "nbformat_minor": 4
}
